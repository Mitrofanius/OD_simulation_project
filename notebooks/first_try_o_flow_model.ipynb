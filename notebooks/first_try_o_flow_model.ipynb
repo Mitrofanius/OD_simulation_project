{
 "cells": [
  {
   "cell_type": "code",
   "execution_count": 473,
   "metadata": {},
   "outputs": [
    {
     "name": "stdout",
     "output_type": "stream",
     "text": [
      "The autoreload extension is already loaded. To reload it, use:\n",
      "  %reload_ext autoreload\n"
     ]
    }
   ],
   "source": [
    "%load_ext autoreload\n",
    "%autoreload 2\n",
    "import os\n",
    "import sys\n",
    "sys.path.insert(1, os.path.dirname(os.getcwd()))\n",
    "\n",
    "# from copy import deepcopy\n",
    "# import torch.optim as optim\n",
    "# import torch\n",
    "from scipy import fft\n",
    "import numpy as np\n",
    "from utils.network_graph import DirectedGraph, graph_dict_3x3, graph_dict_3x3_2, graph_dict_4_nodes\n"
   ]
  },
  {
   "cell_type": "code",
   "execution_count": 474,
   "metadata": {},
   "outputs": [],
   "source": [
    "graph = DirectedGraph(graph_dict_3x3_2)\n",
    "# graph = DirectedGraph(graph_dict_4_nodes)\n"
   ]
  },
  {
   "attachments": {},
   "cell_type": "markdown",
   "metadata": {},
   "source": [
    "In the next cell you can see the process of restoring od-flows from o-flows and getting link flows using both O and OD flows and assignment matrices. Fortunately, the results are equivalent."
   ]
  },
  {
   "cell_type": "code",
   "execution_count": 475,
   "metadata": {},
   "outputs": [
    {
     "name": "stdout",
     "output_type": "stream",
     "text": [
      "P_o.shape: (24, 9); A_od.shape: (24, 72)\n",
      "\n",
      "o flows: \n",
      " [457 663 902 303 223 201 199 873 229]\n",
      "od flows: \n",
      " [ 52.  32.  10.  95.  57.  74.  97.  39. 101. 149.  74.   8. 142.  87.\n",
      "  16.  86.  34. 118.  34. 120. 181. 177.  42. 197.  39.  43.   5.  63.\n",
      "  27.  63.  26.  36.  16.  26.   4.  33.  24.  18.  48.  53.   8.  40.\n",
      "  10.  32.  24.   2.  44.  41.   5.  34.  40.  29.  33.  38.   5.  14.\n",
      "  61.  64. 132.  12.  39. 162. 129. 274.  47.  40.   8.  20.   3.  41.\n",
      "  17.  53.]\n",
      "\n",
      "link flows from o: \n",
      " [304. 369. 320. 390. 629. 464. 674. 208. 379. 387. 328. 348. 518. 480.\n",
      " 225. 356. 422. 198. 196. 473. 374. 586. 283. 215.]\n",
      "link flows from od: \n",
      " [304. 369. 320. 390. 629. 464. 674. 208. 379. 387. 328. 348. 518. 480.\n",
      " 225. 356. 422. 198. 196. 473. 374. 586. 283. 215.]\n"
     ]
    }
   ],
   "source": [
    "o_flows, o_nodes = graph.generate_o_flows()\n",
    "# print(fft.dct(o_flows, type=1, norm=\"forward\"))\n",
    "A_od = graph.generate_od_assignment_matrix()\n",
    "P_o = graph.generate_o_assignment_matrix()\n",
    "\n",
    "od_flows, od_pairs = graph.get_od_from_o_flows(o_flows, P_o)\n",
    "\n",
    "print(\"P_o.shape:\", P_o.shape, end=\"; \")\n",
    "print(\"A_od.shape:\", A_od.shape, end=\"\\n\\n\")\n",
    "\n",
    "print(\"o flows: \\n\", o_flows)\n",
    "print(\"od flows: \\n\", np.round(od_flows))\n",
    "\n",
    "print(\"\\nlink flows from o: \\n\", np.round(P_o @ o_flows))\n",
    "print(\"link flows from od: \\n\", np.round(A_od @ od_flows))\n",
    "\n",
    "real_link_flows = P_o @ o_flows"
   ]
  },
  {
   "cell_type": "code",
   "execution_count": 476,
   "metadata": {},
   "outputs": [
    {
     "data": {
      "text/plain": [
       "array([ 0.12997347, -0.06498674,  1.74005305])"
      ]
     },
     "execution_count": 476,
     "metadata": {},
     "output_type": "execute_result"
    }
   ],
   "source": [
    "# example solution of a task posed in\n",
    "# https://scaron.info/blog/quadratic-programming-in-python.html\n",
    "\n",
    "from utils.opt_functions import quadprog_solve_qp\n",
    "\n",
    "M = np.array([[1., 2., 0.], [-8., 3., 2.], [0., 1., 1.]])\n",
    "P = np.dot(M.T, M)\n",
    "q = -np.dot(M.T, np.array([3., 2., 3.]))\n",
    "G = np.array([[1., 2., 1.], [2., 0., 1.], [-1., 2., -1.]])\n",
    "h = np.array([3., 2., -2.])\n",
    "\n",
    "quadprog_solve_qp(P, q, G, h)\n",
    "\n",
    "# array([ 0.12997347, -0.06498674,  1.74005305])"
   ]
  },
  {
   "cell_type": "code",
   "execution_count": 477,
   "metadata": {},
   "outputs": [
    {
     "name": "stdout",
     "output_type": "stream",
     "text": [
      "o-flows opt solution: [457. 663. 902. 303. 223. 201. 199. 873. 229.]\n",
      "o-flows ground truth: [457 663 902 303 223 201 199 873 229]\n"
     ]
    }
   ],
   "source": [
    "# optimize o-flows with a known assignment matrix\n",
    "M = P_o\n",
    "# M = P_torch.detach().numpy()\n",
    "P = np.dot(M.T, M)\n",
    "q = -np.dot(M.T, P_o @ o_flows) # P_o @ o_flows is a vector of link flows\n",
    "G = -np.ones((len(o_flows), len(o_flows))) # C1: o-flows should be positive\n",
    "h = np.zeros(len(o_flows)) \n",
    "\n",
    "print(\"o-flows opt solution:\", quadprog_solve_qp(P, q, G, h))\n",
    "print(\"o-flows ground truth:\", o_flows)"
   ]
  },
  {
   "cell_type": "code",
   "execution_count": 561,
   "metadata": {},
   "outputs": [
    {
     "data": {
      "text/plain": [
       "array([503.,  -0.,   0., 108.,  13.,  20., 107.,  15.,   0., 497., 116.,\n",
       "        58.,  -0.,  22.,  32.,   0.,   1.,  -0.,   0., 253.,  85.,  13.,\n",
       "        58.,  58.,   8.,  25., 103., 126., 349.,   0.,  29.,  42.,   5.,\n",
       "       100.,  69.,  10., 283., 398., 234.,  36.,   0.,  49.,  17.,   0.,\n",
       "         1.,   0.,  -0., 432.,  14.,  18., 157.,  -0.,  15.,  94.,  77.,\n",
       "       146., 568.,  18.,  33.,  -0.,   0.,  19.,   0.,   0.,  15.,  11.,\n",
       "       225.,  49.,  33., 127.,  61., 103., 279.,  25.,  13., 463.,   0.,\n",
       "         0., 281.,  30.,   1., 222.,  92.,  98., 312.,  84.,  25.,   0.,\n",
       "        15.,  21.,  21.,   0.,  18.,  99., 188., 133., 189., 138., 196.,\n",
       "        25., 117., 101.,  -0., 240., 153.,  19.,  53., 147., 132., 175.,\n",
       "        51., 122., 235.,   0., 215., 182.,  23., 216., 133., 159., 112.,\n",
       "       337., 149.,  12.,   0.,  34.,  20.,  23.,   0.,  20.,  27., 203.,\n",
       "       100., 115., 120.,  21.,  15., 201.,   0.,  -0., 460.,  17.,  13.,\n",
       "       210.,  42.,  91., 218.,  48., 146., 336.,  20.,  31.,   0.,   0.,\n",
       "        11.,   0.,   0.,  21.,  32., 536.,  66.,  64., 106.,   5.,  -0.,\n",
       "       125.,  43.,  22., 464.,   0.,   0.,  21.,   0.,  13.,  42.,  -0.,\n",
       "        47., 288., 374., 200.,  47.,  55.,  98.,  21.,  62.,  37.,   0.,\n",
       "       199., 117.,  42.,  65.,  63.,  97., 129.,  20., 164., 427.,   0.,\n",
       "         0.,  21.,   0.,  18.,  11.,   0., 114., 144., 487.,  -0.,   5.,\n",
       "        61.,   9.,  28., 153.,   0.,   0., 513.])"
      ]
     },
     "execution_count": 561,
     "metadata": {},
     "output_type": "execute_result"
    }
   ],
   "source": [
    "links = graph.get_links()\n",
    "\n",
    "n_t = 15 # number of intervals\n",
    "num_o_nodes = len(o_nodes)\n",
    "num_links = len(links)\n",
    "\n",
    "o_flows_mat = np.zeros((num_o_nodes, n_t))\n",
    "# link_flows = P_o @ o_flows\n",
    "link_flows_mat = np.zeros((num_links, n_t))\n",
    "for i in range(n_t):\n",
    "    o_flows = graph.generate_o_flows()[0]\n",
    "    link_flows = P_o @ o_flows\n",
    "\n",
    "    o_flows_mat[:, i] = o_flows\n",
    "    link_flows_mat[:, i] = link_flows\n",
    "\n",
    "\n",
    "r, c = P_o.shape\n",
    "\n",
    "M = np.zeros((r * n_t, r*c))\n",
    "for j in range(n_t):\n",
    "    for i in range(r):\n",
    "        M[i + j * r, i*c:i*c+c] = o_flows_mat[:, j]\n",
    "\n",
    "\n",
    "P = np.dot(M.T, M)\n",
    "b = link_flows_mat.T.reshape(np.prod(link_flows_mat.shape))\n",
    "\n",
    "q = -M.T @ b\n",
    "# q = np.zeros(r * c)\n",
    "# for i in range(r):\n",
    "#     q[i * c: i * c + c] = link_flows[i] * o_flows\n",
    "\n",
    "\n",
    "C2_mat = np.vstack([np.eye(r*c), -np.eye(r * c)]) \n",
    "C2_vect = np.hstack([np.ones(r*c), np.zeros(r * c)])\n",
    "\n",
    "C3_mat = np.zeros((c, r * c))\n",
    "for j in range(c):\n",
    "      for i in range(r):\n",
    "            if (int(links[i][0])) == j + 1:\n",
    "                  C3_mat[j, i * c + j] = 1\n",
    "C3_vect = np.ones(c)\n",
    "\n",
    "\n",
    "G = C2_mat\n",
    "h = C2_vect\n",
    "A = C3_mat\n",
    "b = C3_vect\n",
    "\n",
    "# P += np.eye(P.shape[0]) * np.random.rand(216) * 1e-8\n",
    "\n",
    "ans = (quadprog_solve_qp(P, q, G, h, A, b))\n",
    "np.round(ans * 1000)"
   ]
  },
  {
   "cell_type": "code",
   "execution_count": 524,
   "metadata": {},
   "outputs": [
    {
     "data": {
      "text/plain": [
       "array([229., 194., 147., 182., 182., 147., 100., 206., 288., 224., 377.,\n",
       "       277., 364., 310., 265., 311., 261., 204., 179., 463., 269., 455.,\n",
       "       356., 302.])"
      ]
     },
     "execution_count": 524,
     "metadata": {},
     "output_type": "execute_result"
    }
   ],
   "source": [
    "# for i in range(10):\n",
    "#     print(graph.generate_o_flows()[0])\n",
    "np.round(ans.reshape(P_o.shape) @ o_flows_mat[:, 0])"
   ]
  },
  {
   "cell_type": "code",
   "execution_count": 583,
   "metadata": {},
   "outputs": [
    {
     "data": {
      "text/plain": [
       "array([520., 388., 182., 226., 344., 245., 217., 398., 785., 530., 484.,\n",
       "       306., 444., 479., 274., 401., 296., 349., 446., 425., 227., 308.,\n",
       "       506., 514.])"
      ]
     },
     "execution_count": 583,
     "metadata": {},
     "output_type": "execute_result"
    }
   ],
   "source": [
    "np.round(link_flows_mat[:, 0])"
   ]
  },
  {
   "cell_type": "code",
   "execution_count": 682,
   "metadata": {},
   "outputs": [],
   "source": [
    "# try the overall procedure\n",
    "graph2 = DirectedGraph(graph_dict_3x3_2)\n",
    "P_init = graph2.generate_o_assignment_matrix()\n",
    "np.round(P_init @ o_flows_mat[:, 0])\n",
    "\n",
    "opt_P = P_init\n",
    "opt_x = np.zeros((num_o_nodes, n_t))\n"
   ]
  },
  {
   "cell_type": "code",
   "execution_count": 689,
   "metadata": {},
   "outputs": [],
   "source": [
    "epochs = 50\n",
    "# opt_P = P_init\n",
    "for i in range(epochs):\n",
    "    # optimize x\n",
    "\n",
    "    M_x = opt_P\n",
    "    P_x = np.dot(M_x.T, M_x)\n",
    "    G_x = np.vstack([-np.eye(num_o_nodes) for i in range(num_o_nodes)])\n",
    "    \n",
    "    h_x = np.zeros(num_o_nodes ** 2)\n",
    "    for j in range(n_t):\n",
    "        q_x = -np.dot(M_x.T, link_flows_mat[:, j]) # P @ o_flows_mat is a matirx of link flows\n",
    "        opt_x[:, j] = quadprog_solve_qp(P_x, q_x, G_x, h_x)\n",
    "\n",
    "\n",
    "    #optimize P\n",
    "    r, c = P_o.shape\n",
    "\n",
    "    M = np.zeros((r * n_t, r*c))\n",
    "    for j in range(n_t):\n",
    "        for i in range(r):\n",
    "            M[i + j * r, i*c:i*c+c] = opt_x[:, j]\n",
    "\n",
    "    # P = M.T @ M\n",
    "    # q = -M.T @ b\n",
    "    P = np.dot(M.T, M)\n",
    "    b = link_flows_mat.T.reshape(np.prod(link_flows_mat.shape))\n",
    "\n",
    "    q = -M.T @ b\n",
    "\n",
    "    C2_mat = np.vstack([np.eye(r*c), -np.eye(r * c)]) \n",
    "    C2_vect = np.hstack([np.ones(r*c), np.zeros(r * c)])\n",
    "\n",
    "    C3_mat = np.zeros((c, r * c))\n",
    "    for j in range(c):\n",
    "        for i in range(r):\n",
    "                if (int(links[i][0])) == j + 1:\n",
    "                    C3_mat[j, i * c + j] = 1\n",
    "    C3_vect = np.ones(c)\n",
    "\n",
    "\n",
    "    G = C2_mat\n",
    "    h = C2_vect\n",
    "    A = C3_mat\n",
    "    b = C3_vect\n",
    "\n",
    "\n",
    "    opt_P = (quadprog_solve_qp(P, q, G, h, A, b)).reshape(P_o.shape)"
   ]
  },
  {
   "cell_type": "code",
   "execution_count": 690,
   "metadata": {},
   "outputs": [
    {
     "data": {
      "text/plain": [
       "(array([683., 100., 237., 989., 405., 278., 513.,  32., 748.]),\n",
       " array([700.,  87., 216., 945., 273., 335., 506., 100., 846.]))"
      ]
     },
     "execution_count": 690,
     "metadata": {},
     "output_type": "execute_result"
    }
   ],
   "source": [
    "np.round(opt_x[:, 0]), np.round(o_flows_mat[:, 0])"
   ]
  },
  {
   "cell_type": "code",
   "execution_count": 1,
   "metadata": {},
   "outputs": [],
   "source": [
    "# np.round(opt_P, 3) * 1000, np.round(P_o, 3) * 1000"
   ]
  },
  {
   "cell_type": "code",
   "execution_count": null,
   "metadata": {},
   "outputs": [],
   "source": []
  }
 ],
 "metadata": {
  "kernelspec": {
   "display_name": "cs_s8_project_env",
   "language": "python",
   "name": "python3"
  },
  "language_info": {
   "codemirror_mode": {
    "name": "ipython",
    "version": 3
   },
   "file_extension": ".py",
   "mimetype": "text/x-python",
   "name": "python",
   "nbconvert_exporter": "python",
   "pygments_lexer": "ipython3",
   "version": "3.10.5"
  },
  "orig_nbformat": 4
 },
 "nbformat": 4,
 "nbformat_minor": 2
}
