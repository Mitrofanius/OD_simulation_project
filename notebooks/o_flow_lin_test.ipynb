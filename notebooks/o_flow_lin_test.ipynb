{
 "cells": [
  {
   "cell_type": "code",
   "execution_count": 250,
   "metadata": {},
   "outputs": [
    {
     "name": "stdout",
     "output_type": "stream",
     "text": [
      "The autoreload extension is already loaded. To reload it, use:\n",
      "  %reload_ext autoreload\n"
     ]
    }
   ],
   "source": [
    "%load_ext autoreload\n",
    "%autoreload 2\n",
    "import os\n",
    "import sys\n",
    "sys.path.insert(1, os.path.dirname(os.getcwd()))\n",
    "\n",
    "from scipy import fft\n",
    "import numpy as np\n",
    "from utils.network_graph import DirectedGraph, graph_dict_3x3, graph_dict_3x3_2, graph_dict_4_nodes\n"
   ]
  },
  {
   "cell_type": "code",
   "execution_count": 251,
   "metadata": {},
   "outputs": [],
   "source": [
    "graph = DirectedGraph(graph_dict_3x3)\n",
    "# graph = DirectedGraph(graph_dict_4_nodes)\n"
   ]
  },
  {
   "attachments": {},
   "cell_type": "markdown",
   "metadata": {},
   "source": [
    "In the next cell you can see the process of restoring od-flows from o-flows and getting link flows using both O and OD flows and assignment matrices. Fortunately, the results are equivalent."
   ]
  },
  {
   "cell_type": "code",
   "execution_count": 252,
   "metadata": {},
   "outputs": [
    {
     "name": "stdout",
     "output_type": "stream",
     "text": [
      "P_o.shape: (12, 8); A_od.shape: (12, 27)\n",
      "\n",
      "o flows: \n",
      " [846 319 683 790 276 996 863 328]\n",
      "od flows: \n",
      " [109. 161.   1. 138. 168.   7. 118. 144.  58.  42.  76.  89.  53. 472.\n",
      " 211. 200. 111. 169. 161. 149. 115. 125.  35. 996. 276. 587. 328.]\n",
      "\n",
      "link flows from o: \n",
      " [ 562.  284.  354.  417.  818.  703.  370.  509.  507. 1382. 1057. 1122.]\n",
      "link flows from od: \n",
      " [ 562.  284.  354.  417.  818.  703.  370.  509.  507. 1382. 1057. 1122.]\n"
     ]
    }
   ],
   "source": [
    "o_flows, o_nodes = graph.generate_o_flows()\n",
    "# print(fft.dct(o_flows, type=1, norm=\"forward\"))\n",
    "A_od = graph.generate_od_assignment_matrix()\n",
    "P_o = graph.generate_o_assignment_matrix()\n",
    "\n",
    "od_flows, od_pairs = graph.get_od_from_o_flows(o_flows, P_o)\n",
    "\n",
    "print(\"P_o.shape:\", P_o.shape, end=\"; \")\n",
    "print(\"A_od.shape:\", A_od.shape, end=\"\\n\\n\")\n",
    "\n",
    "print(\"o flows: \\n\", o_flows)\n",
    "print(\"od flows: \\n\", np.round(od_flows))\n",
    "\n",
    "print(\"\\nlink flows from o: \\n\", np.round(P_o @ o_flows))\n",
    "print(\"link flows from od: \\n\", np.round(A_od @ od_flows))\n"
   ]
  },
  {
   "cell_type": "code",
   "execution_count": 253,
   "metadata": {},
   "outputs": [
    {
     "data": {
      "text/plain": [
       "array([ 0.12997347, -0.06498674,  1.74005305])"
      ]
     },
     "execution_count": 253,
     "metadata": {},
     "output_type": "execute_result"
    }
   ],
   "source": [
    "# example solution of a task posed in\n",
    "# https://scaron.info/blog/quadratic-programming-in-python.html\n",
    "\n",
    "from utils.opt_functions import quadprog_solve_qp\n",
    "\n",
    "M = np.array([[1., 2., 0.], [-8., 3., 2.], [0., 1., 1.]])\n",
    "P = np.dot(M.T, M)\n",
    "q = -np.dot(M.T, np.array([3., 2., 3.]))\n",
    "G = np.array([[1., 2., 1.], [2., 0., 1.], [-1., 2., -1.]])\n",
    "h = np.array([3., 2., -2.])\n",
    "\n",
    "quadprog_solve_qp(P, q, G, h)\n",
    "\n",
    "# array([ 0.12997347, -0.06498674,  1.74005305])"
   ]
  },
  {
   "cell_type": "code",
   "execution_count": 254,
   "metadata": {},
   "outputs": [
    {
     "name": "stdout",
     "output_type": "stream",
     "text": [
      "o-flows opt solution: [846. 319. 683. 790. 276. 996. 863. 328.]\n",
      "o-flows ground truth: [846 319 683 790 276 996 863 328]\n"
     ]
    }
   ],
   "source": [
    "# optimize o-flows with a known assignment matrix\n",
    "M = P_o\n",
    "P = np.dot(M.T, M)\n",
    "q = -np.dot(M.T, P_o @ o_flows) # P_o @ o_flows is a vector of link flows\n",
    "G = -np.ones((len(o_flows), len(o_flows))) # C1: o-flows should be positive\n",
    "h = np.zeros(len(o_flows)) \n",
    "\n",
    "print(\"o-flows opt solution:\", quadprog_solve_qp(P, q, G, h))\n",
    "print(\"o-flows ground truth:\", o_flows)"
   ]
  },
  {
   "cell_type": "code",
   "execution_count": 255,
   "metadata": {},
   "outputs": [],
   "source": [
    "# test that some of constraints are encoded properly.\n",
    "# They are!\n",
    "# C3_mat @ P_o[:].reshape((r*c,))"
   ]
  },
  {
   "cell_type": "code",
   "execution_count": 256,
   "metadata": {},
   "outputs": [
    {
     "data": {
      "text/plain": [
       "array([2.09988198, 1.5914946 , 1.09752502, 0.24361652, 0.75481948,\n",
       "       0.57174098, 0.46046794, 0.47747887])"
      ]
     },
     "execution_count": 256,
     "metadata": {},
     "output_type": "execute_result"
    }
   ],
   "source": []
  }
 ],
 "metadata": {
  "kernelspec": {
   "display_name": "cs_s8_project_env",
   "language": "python",
   "name": "python3"
  },
  "language_info": {
   "codemirror_mode": {
    "name": "ipython",
    "version": 3
   },
   "file_extension": ".py",
   "mimetype": "text/x-python",
   "name": "python",
   "nbconvert_exporter": "python",
   "pygments_lexer": "ipython3",
   "version": "3.10.5"
  },
  "orig_nbformat": 4
 },
 "nbformat": 4,
 "nbformat_minor": 2
}
