{
 "cells": [
  {
   "cell_type": "code",
   "execution_count": 1,
   "metadata": {},
   "outputs": [],
   "source": [
    "%load_ext autoreload\n",
    "%autoreload 2\n",
    "import os\n",
    "import sys\n",
    "sys.path.insert(1, os.path.dirname(os.getcwd()))\n",
    "\n",
    "\n",
    "import numpy as np\n",
    "from utils.network_graph import DirectedGraph, graph_dict_3x3, graph_dict_3x3_2,\\\n",
    "                                graph_dict_4_nodes, create_nxn_graph\n",
    "from models.O_flows_linear import OFlowsLinear"
   ]
  },
  {
   "cell_type": "code",
   "execution_count": 2,
   "metadata": {},
   "outputs": [],
   "source": [
    "# for n = 6 it takes some time (about 10-20 minutes on 2022 Macbook M1 pro 16 gb ram)\n",
    "# 7 and 8 - too much time\n",
    "\n",
    "n = 6\n",
    "graph_nxn_bi = DirectedGraph(create_nxn_graph(n))"
   ]
  },
  {
   "cell_type": "code",
   "execution_count": 4,
   "metadata": {},
   "outputs": [],
   "source": [
    "n_t = 65 # number of intervals\n",
    "\n",
    "links = graph_nxn_bi.get_links()\n",
    "o_nodes = graph_nxn_bi.get_o_nodes()\n",
    "num_o_nodes = len(o_nodes)\n",
    "num_links = len(links)\n",
    "\n",
    "P_o = graph_nxn_bi.generate_o_assignment_matrix()\n",
    "o_flows_mat = np.zeros((num_o_nodes, n_t))\n",
    "link_flows_mat = np.zeros((num_links, n_t))\n",
    "for i in range(n_t):\n",
    "    o_flows = graph_nxn_bi.generate_o_flows()[0]\n",
    "    link_flows = P_o @ o_flows\n",
    "\n",
    "    o_flows_mat[:, i] = o_flows\n",
    "    link_flows_mat[:, i] = link_flows"
   ]
  },
  {
   "cell_type": "code",
   "execution_count": null,
   "metadata": {},
   "outputs": [],
   "source": [
    "model = OFlowsLinear(graph_nxn_bi)"
   ]
  },
  {
   "cell_type": "code",
   "execution_count": null,
   "metadata": {},
   "outputs": [
    {
     "name": "stdout",
     "output_type": "stream",
     "text": [
      "is anything going on?\n",
      "is anything going on?\n",
      "is anything going on?\n",
      "NMSE, iteration 2:  437.3603454163579\n",
      "is anything going on?\n",
      "NMSE, iteration 3:  116.5364179258885\n",
      "is anything going on?\n",
      "NMSE, iteration 4:  51.01813922633833\n",
      "is anything going on?\n",
      "NMSE, iteration 5:  30.952675530185175\n",
      "is anything going on?\n",
      "NMSE, iteration 6:  21.889210907142886\n"
     ]
    }
   ],
   "source": [
    "opt_P, opt_x = model.fit(n_t, link_flows_mat, num_inits=1, threshold=1e-5, verbose=True)"
   ]
  },
  {
   "cell_type": "code",
   "execution_count": null,
   "metadata": {},
   "outputs": [
    {
     "name": "stdout",
     "output_type": "stream",
     "text": [
      "NMSE opt_P @ opt_x   :  9e-06\n",
      "NMSE mock_P @ opt_x  :  0.017382\n",
      "NMSE opt_P @ mock_x  :  0.121333\n",
      "NMSE mock_P @ mock_x :  0.132177\n"
     ]
    }
   ],
   "source": [
    "# some statistics\n",
    "\n",
    "mock_x = np.random.rand(*o_flows_mat.shape) * 1000\n",
    "mock_P = DirectedGraph(create_nxn_graph(n)).generate_o_assignment_matrix()\n",
    "\n",
    "print(\"NMSE opt_P @ opt_x   : \", np.round((np.linalg.norm(opt_P @ opt_x - link_flows_mat) / np.linalg.norm(link_flows_mat)) ** 2, 6))\n",
    "print(\"NMSE mock_P @ opt_x  : \", np.round((np.linalg.norm(mock_P @ opt_x - link_flows_mat) / np.linalg.norm(link_flows_mat)) ** 2, 6))\n",
    "print(\"NMSE opt_P @ mock_x  : \", np.round((np.linalg.norm(opt_P @ mock_x - link_flows_mat) / np.linalg.norm(link_flows_mat)) ** 2, 6))\n",
    "print(\"NMSE mock_P @ mock_x : \", np.round((np.linalg.norm(mock_P @ mock_x - link_flows_mat) / np.linalg.norm(link_flows_mat)) ** 2, 6))"
   ]
  },
  {
   "cell_type": "code",
   "execution_count": null,
   "metadata": {},
   "outputs": [],
   "source": [
    "# basic visual test\n",
    "# compare ground truth and predicted od flows for the first interval\n",
    "\n",
    "o_flows_mat[:, 0], opt_x[:, 0]"
   ]
  }
 ],
 "metadata": {
  "kernelspec": {
   "display_name": "st7",
   "language": "python",
   "name": "python3"
  },
  "language_info": {
   "codemirror_mode": {
    "name": "ipython",
    "version": 3
   },
   "file_extension": ".py",
   "mimetype": "text/x-python",
   "name": "python",
   "nbconvert_exporter": "python",
   "pygments_lexer": "ipython3",
   "version": "3.10.5"
  },
  "orig_nbformat": 4,
  "vscode": {
   "interpreter": {
    "hash": "833e8becbef8e0ddd99e88e509c281d6cf08f0acdbad79be609f650911fb3f90"
   }
  }
 },
 "nbformat": 4,
 "nbformat_minor": 2
}
